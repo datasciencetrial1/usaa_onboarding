{
 "cells": [
  {
   "cell_type": "code",
   "execution_count": 1,
   "metadata": {},
   "outputs": [],
   "source": [
    "from sklearn.externals import joblib\n",
    "import numpy as np\n",
    "import pandas as pd\n",
    "from xgboost.sklearn import XGBClassifier\n",
    " \n",
    "clf = joblib.load('./model/XGBoost_CreditCard_GridCV_45_Iter_v1.pkl')\n",
    "DUMMY_VALUES = {u'EDUCATION': [2, 1, 3, 5, 4, 6, 0], u'MARRIAGE': [2, 1, 3, 0], u'SEX': [2, 1]}\n",
    "\n",
    "def dummy_encode_dataframe(df):\n",
    "    for (feature, dummy_values) in DUMMY_VALUES.items():\n",
    "        for dummy_value in dummy_values:\n",
    "            dummy_name = u'%s_value_%s' % (feature, str(dummy_value))\n",
    "            df[dummy_name] = (df[feature] == dummy_value).astype(float)\n",
    "        del df[feature]\n",
    "\n",
    "def predict_credit_card_default(LIMIT_BAL, SEX, EDUCATION, MARRIAGE, AGE, PAY_0, PAY_2, PAY_3, PAY_4, PAY_5, PAY_6, BILL_AMT1, BILL_AMT2, BILL_AMT3, BILL_AMT4, BILL_AMT5, BILL_AMT6, PAY_AMT1, PAY_AMT2, PAY_AMT3, PAY_AMT4, PAY_AMT5, PAY_AMT6):\n",
    "    new_list = [[LIMIT_BAL, SEX, EDUCATION, MARRIAGE, AGE, PAY_0, PAY_2, PAY_3, PAY_4, PAY_5, PAY_6, BILL_AMT1, BILL_AMT2, BILL_AMT3, BILL_AMT4, BILL_AMT5, BILL_AMT6, PAY_AMT1, PAY_AMT2, PAY_AMT3, PAY_AMT4, PAY_AMT5, PAY_AMT6]]\n",
    "    new_df = pd.DataFrame(new_list, columns=['LIMIT_BAL', 'SEX', 'EDUCATION', 'MARRIAGE', 'AGE', 'PAY_0', 'PAY_2', 'PAY_3', 'PAY_4', 'PAY_5', 'PAY_6', 'BILL_AMT1', 'BILL_AMT2', 'BILL_AMT3', 'BILL_AMT4', 'BILL_AMT5', 'BILL_AMT6', 'PAY_AMT1', 'PAY_AMT2', 'PAY_AMT3', 'PAY_AMT4', 'PAY_AMT5', 'PAY_AMT6'])\n",
    "    \n",
    "    # Dummy encode\n",
    "    dummy_encode_dataframe(new_df)\n",
    "    \n",
    "    # Recale numerical features\n",
    "    new_df['LIMIT_BAL'] = (new_df['LIMIT_BAL'] - 165498.715780).astype(np.float64) / 129130.743065\n",
    "    new_df['AGE'] = (new_df['AGE'] - 35.380849).astype(np.float64) / 9.271046\n",
    "    new_df['PAY_0'] = (new_df['PAY_0'] + 0.001667).astype(np.float64) / 1.127136\n",
    "    new_df['PAY_2'] = (new_df['PAY_2'] + 0.123463).astype(np.float64) / 1.200591\n",
    "    new_df['PAY_3'] = (new_df['PAY_3'] + 0.154756).astype(np.float64) / 1.204058\n",
    "    new_df['PAY_4'] = (new_df['PAY_4'] + 0.211675).astype(np.float64) / 1.166573\n",
    "    new_df['PAY_5'] = (new_df['PAY_5'] + 0.252885).astype(np.float64) / 1.137006\n",
    "    new_df['PAY_6'] = (new_df['PAY_6'] + 0.278011).astype(np.float64) / 1.158191\n",
    "    new_df['BILL_AMT1'] = (new_df['BILL_AMT1'] - 50598.928663).astype(np.float64) / 72650.197809\n",
    "    new_df['BILL_AMT2'] = (new_df['BILL_AMT2'] - 48648.047418).astype(np.float64) / 70365.395642\n",
    "    new_df['BILL_AMT3'] = (new_df['BILL_AMT3'] - 46368.903537).astype(np.float64) / 68194.719520\n",
    "    new_df['BILL_AMT4'] = (new_df['BILL_AMT4'] - 42369.872828).astype(np.float64) / 63071.455167\n",
    "    new_df['BILL_AMT5'] = (new_df['BILL_AMT5'] - 40002.333097).astype(np.float64) / 60345.728280\n",
    "    new_df['BILL_AMT6'] = (new_df['BILL_AMT6'] - 38565.266636).astype(np.float64) / 59156.501143\n",
    "    new_df['PAY_AMT1'] = (new_df['PAY_AMT1'] - 5543.098046).astype(np.float64) / 15068.862730\n",
    "    new_df['PAY_AMT2'] = (new_df['PAY_AMT2'] - 5815.529).astype(np.float64) / 20797.44\n",
    "    new_df['PAY_AMT3'] = (new_df['PAY_AMT3'] - 4969.431393).astype(np.float64) / 16095.929295\n",
    "    new_df['PAY_AMT4'] = (new_df['PAY_AMT4'] - 4743.656861).astype(np.float64) / 14883.554872\n",
    "    new_df['PAY_AMT5'] = (new_df['PAY_AMT5'] - 4783.643693).astype(np.float64) / 15270.703904\n",
    "    new_df['PAY_AMT6'] = (new_df['PAY_AMT6'] - 5189.573607).astype(np.float64) / 17630.718575\n",
    "    \n",
    "    result = clf.predict_proba(new_df)\n",
    "    return result.tolist()"
   ]
  },
  {
   "cell_type": "code",
   "execution_count": 2,
   "metadata": {},
   "outputs": [
    {
     "data": {
      "text/plain": [
       "[[0.7137327194213867, 0.28626731038093567]]"
      ]
     },
     "execution_count": 2,
     "metadata": {},
     "output_type": "execute_result"
    }
   ],
   "source": [
    "test_df = predict_credit_card_default(90000,2,2,2,34,0,0,0,0,0,0,29239,14027,13559,14331,14948,15549,1518,1500,1000,1000,1000,5000)\n",
    "test_df"
   ]
  }
 ],
 "metadata": {
  "kernelspec": {
   "display_name": "Python 2",
   "language": "python",
   "name": "python2"
  },
  "language_info": {
   "codemirror_mode": {
    "name": "ipython",
    "version": 2
   },
   "file_extension": ".py",
   "mimetype": "text/x-python",
   "name": "python",
   "nbconvert_exporter": "python",
   "pygments_lexer": "ipython2",
   "version": "2.7.9"
  }
 },
 "nbformat": 4,
 "nbformat_minor": 2
}
